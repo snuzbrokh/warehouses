{
 "cells": [
  {
   "cell_type": "code",
   "execution_count": 4,
   "metadata": {},
   "outputs": [
    {
     "name": "stdout",
     "output_type": "stream",
     "text": [
      "warehouses_10_NYTXCT.csv warehouses_4.csv         warehouses_8_NYout.csv\r\n",
      "warehouses_1_TXout.csv   warehouses_5.csv         warehouses_9.csv\r\n",
      "warehouses_2.csv         warehouses_6.csv         warehouses_NY.csv\r\n",
      "warehouses_3_CTout.csv   warehouses_7.csv\r\n"
     ]
    }
   ],
   "source": [
    "!ls ./loopnet"
   ]
  },
  {
   "cell_type": "code",
   "execution_count": 113,
   "metadata": {},
   "outputs": [],
   "source": [
    "import pandas as pd\n",
    "import numpy as np"
   ]
  },
  {
   "cell_type": "code",
   "execution_count": 120,
   "metadata": {},
   "outputs": [],
   "source": [
    "whNY = pd.read_csv('./loopnet/warehouses_NY.csv')\n",
    "to_drop = ['listingID','propType','status']\n",
    "whNY.drop(columns = to_drop, inplace = True)"
   ]
  },
  {
   "cell_type": "code",
   "execution_count": 121,
   "metadata": {},
   "outputs": [
    {
     "ename": "TypeError",
     "evalue": "expected string or bytes-like object",
     "output_type": "error",
     "traceback": [
      "\u001b[0;31m---------------------------------------------------------------------------\u001b[0m",
      "\u001b[0;31mTypeError\u001b[0m                                 Traceback (most recent call last)",
      "\u001b[0;32m<ipython-input-121-e87cd8b494b0>\u001b[0m in \u001b[0;36m<module>\u001b[0;34m\u001b[0m\n\u001b[1;32m      5\u001b[0m \u001b[0;34m\u001b[0m\u001b[0m\n\u001b[1;32m      6\u001b[0m     \u001b[0;32mreturn\u001b[0m \u001b[0mdf\u001b[0m\u001b[0;34m\u001b[0m\u001b[0;34m\u001b[0m\u001b[0m\n\u001b[0;32m----> 7\u001b[0;31m \u001b[0mdf\u001b[0m \u001b[0;34m=\u001b[0m \u001b[0mclean\u001b[0m\u001b[0;34m(\u001b[0m\u001b[0mwhNY\u001b[0m\u001b[0;34m)\u001b[0m\u001b[0;34m\u001b[0m\u001b[0;34m\u001b[0m\u001b[0m\n\u001b[0m\u001b[1;32m      8\u001b[0m \u001b[0mdf\u001b[0m\u001b[0;34m.\u001b[0m\u001b[0misnull\u001b[0m\u001b[0;34m(\u001b[0m\u001b[0;34m)\u001b[0m\u001b[0;34m\u001b[0m\u001b[0;34m\u001b[0m\u001b[0m\n",
      "\u001b[0;32m<ipython-input-121-e87cd8b494b0>\u001b[0m in \u001b[0;36mclean\u001b[0;34m(df)\u001b[0m\n\u001b[1;32m      1\u001b[0m \u001b[0;32mdef\u001b[0m \u001b[0mclean\u001b[0m\u001b[0;34m(\u001b[0m\u001b[0mdf\u001b[0m\u001b[0;34m)\u001b[0m\u001b[0;34m:\u001b[0m\u001b[0;34m\u001b[0m\u001b[0;34m\u001b[0m\u001b[0m\n\u001b[0;32m----> 2\u001b[0;31m     \u001b[0mprice_adjust\u001b[0m\u001b[0;34m(\u001b[0m\u001b[0mdf\u001b[0m\u001b[0;34m.\u001b[0m\u001b[0mprice\u001b[0m\u001b[0;34m)\u001b[0m\u001b[0;34m\u001b[0m\u001b[0;34m\u001b[0m\u001b[0m\n\u001b[0m\u001b[1;32m      3\u001b[0m     \u001b[0;31m#amenities_adjust(df.amenities)\u001b[0m\u001b[0;34m\u001b[0m\u001b[0;34m\u001b[0m\u001b[0;34m\u001b[0m\u001b[0m\n\u001b[1;32m      4\u001b[0m \u001b[0;34m\u001b[0m\u001b[0m\n\u001b[1;32m      5\u001b[0m \u001b[0;34m\u001b[0m\u001b[0m\n",
      "\u001b[0;32m<ipython-input-82-1d1fb217b320>\u001b[0m in \u001b[0;36mprice_adjust\u001b[0;34m(price)\u001b[0m\n\u001b[1;32m      1\u001b[0m \u001b[0;32mimport\u001b[0m \u001b[0mre\u001b[0m\u001b[0;34m\u001b[0m\u001b[0;34m\u001b[0m\u001b[0m\n\u001b[1;32m      2\u001b[0m \u001b[0;32mdef\u001b[0m \u001b[0mprice_adjust\u001b[0m\u001b[0;34m(\u001b[0m\u001b[0mprice\u001b[0m\u001b[0;34m)\u001b[0m\u001b[0;34m:\u001b[0m\u001b[0;34m\u001b[0m\u001b[0;34m\u001b[0m\u001b[0m\n\u001b[0;32m----> 3\u001b[0;31m     \u001b[0mlst\u001b[0m \u001b[0;34m=\u001b[0m \u001b[0mre\u001b[0m\u001b[0;34m.\u001b[0m\u001b[0msplit\u001b[0m\u001b[0;34m(\u001b[0m\u001b[0;34m'[- /]+'\u001b[0m\u001b[0;34m,\u001b[0m\u001b[0mprice\u001b[0m\u001b[0;34m)\u001b[0m\u001b[0;34m\u001b[0m\u001b[0;34m\u001b[0m\u001b[0m\n\u001b[0m\u001b[1;32m      4\u001b[0m     \u001b[0ml\u001b[0m \u001b[0;34m=\u001b[0m \u001b[0mlen\u001b[0m\u001b[0;34m(\u001b[0m\u001b[0mlst\u001b[0m\u001b[0;34m)\u001b[0m\u001b[0;34m\u001b[0m\u001b[0;34m\u001b[0m\u001b[0m\n\u001b[1;32m      5\u001b[0m \u001b[0;34m\u001b[0m\u001b[0m\n",
      "\u001b[0;32m/usr/local/anaconda3/lib/python3.7/re.py\u001b[0m in \u001b[0;36msplit\u001b[0;34m(pattern, string, maxsplit, flags)\u001b[0m\n\u001b[1;32m    211\u001b[0m     \u001b[0;32mand\u001b[0m \u001b[0mthe\u001b[0m \u001b[0mremainder\u001b[0m \u001b[0mof\u001b[0m \u001b[0mthe\u001b[0m \u001b[0mstring\u001b[0m \u001b[0;32mis\u001b[0m \u001b[0mreturned\u001b[0m \u001b[0;32mas\u001b[0m \u001b[0mthe\u001b[0m \u001b[0mfinal\u001b[0m \u001b[0melement\u001b[0m\u001b[0;34m\u001b[0m\u001b[0;34m\u001b[0m\u001b[0m\n\u001b[1;32m    212\u001b[0m     of the list.\"\"\"\n\u001b[0;32m--> 213\u001b[0;31m     \u001b[0;32mreturn\u001b[0m \u001b[0m_compile\u001b[0m\u001b[0;34m(\u001b[0m\u001b[0mpattern\u001b[0m\u001b[0;34m,\u001b[0m \u001b[0mflags\u001b[0m\u001b[0;34m)\u001b[0m\u001b[0;34m.\u001b[0m\u001b[0msplit\u001b[0m\u001b[0;34m(\u001b[0m\u001b[0mstring\u001b[0m\u001b[0;34m,\u001b[0m \u001b[0mmaxsplit\u001b[0m\u001b[0;34m)\u001b[0m\u001b[0;34m\u001b[0m\u001b[0;34m\u001b[0m\u001b[0m\n\u001b[0m\u001b[1;32m    214\u001b[0m \u001b[0;34m\u001b[0m\u001b[0m\n\u001b[1;32m    215\u001b[0m \u001b[0;32mdef\u001b[0m \u001b[0mfindall\u001b[0m\u001b[0;34m(\u001b[0m\u001b[0mpattern\u001b[0m\u001b[0;34m,\u001b[0m \u001b[0mstring\u001b[0m\u001b[0;34m,\u001b[0m \u001b[0mflags\u001b[0m\u001b[0;34m=\u001b[0m\u001b[0;36m0\u001b[0m\u001b[0;34m)\u001b[0m\u001b[0;34m:\u001b[0m\u001b[0;34m\u001b[0m\u001b[0;34m\u001b[0m\u001b[0m\n",
      "\u001b[0;31mTypeError\u001b[0m: expected string or bytes-like object"
     ]
    }
   ],
   "source": [
    "def clean(df):\n",
    "    price_adjust(df.price)\n",
    "    #amenities_adjust(df.amenities)\n",
    "    \n",
    "    \n",
    "    return df\n",
    "df = clean(whNY)\n",
    "df.isnull()"
   ]
  },
  {
   "cell_type": "code",
   "execution_count": 79,
   "metadata": {
    "scrolled": true
   },
   "outputs": [],
   "source": [
    "for x in whNY.spaceAvailable:\n",
    "    if re.search(\"SF\",x) == None:\n",
    "        print(x)"
   ]
  },
  {
   "cell_type": "code",
   "execution_count": 17,
   "metadata": {},
   "outputs": [],
   "source": [
    "\n",
    "    \n",
    "whNY['buildingSize'] = whNY['buildingSize'].replace(to_replace='SF', value = '', regex = True)\n"
   ]
  },
  {
   "cell_type": "code",
   "execution_count": 90,
   "metadata": {},
   "outputs": [
    {
     "data": {
      "text/plain": [
       "['Bus Line',\n",
       " 'Conferencing Facility',\n",
       " 'Security System',\n",
       " 'Storage Space',\n",
       " 'Car Charging Station',\n",
       " 'Air Conditioning']"
      ]
     },
     "execution_count": 90,
     "metadata": {},
     "output_type": "execute_result"
    }
   ],
   "source": [
    "df = whNY\n",
    "df.amenities[4].split(',')"
   ]
  },
  {
   "cell_type": "code",
   "execution_count": 112,
   "metadata": {},
   "outputs": [
    {
     "data": {
      "text/html": [
       "<div>\n",
       "<style scoped>\n",
       "    .dataframe tbody tr th:only-of-type {\n",
       "        vertical-align: middle;\n",
       "    }\n",
       "\n",
       "    .dataframe tbody tr th {\n",
       "        vertical-align: top;\n",
       "    }\n",
       "\n",
       "    .dataframe thead th {\n",
       "        text-align: right;\n",
       "    }\n",
       "</style>\n",
       "<table border=\"1\" class=\"dataframe\">\n",
       "  <thead>\n",
       "    <tr style=\"text-align: right;\">\n",
       "      <th></th>\n",
       "      <th>address</th>\n",
       "      <th>amenities</th>\n",
       "      <th>buildingSize</th>\n",
       "      <th>city</th>\n",
       "      <th>extraInfo</th>\n",
       "      <th>listingDate</th>\n",
       "      <th>listingID</th>\n",
       "      <th>price</th>\n",
       "      <th>propType</th>\n",
       "      <th>spaceAvailable</th>\n",
       "      <th>spaces</th>\n",
       "      <th>state</th>\n",
       "      <th>status</th>\n",
       "      <th>subType</th>\n",
       "      <th>transport</th>\n",
       "      <th>utilities</th>\n",
       "    </tr>\n",
       "  </thead>\n",
       "  <tbody>\n",
       "    <tr>\n",
       "      <td>0</td>\n",
       "      <td>120 Wilshire Blvd</td>\n",
       "      <td>None</td>\n",
       "      <td>150,000 SF</td>\n",
       "      <td>Edgewood</td>\n",
       "      <td>Property Type,Industrial,Rentable Building Are...</td>\n",
       "      <td>3/24/2020</td>\n",
       "      <td>18965073</td>\n",
       "      <td>Rent Upon Request</td>\n",
       "      <td>Industrial</td>\n",
       "      <td>75,000 SF</td>\n",
       "      <td>1 Space</td>\n",
       "      <td>NY</td>\n",
       "      <td>For Lease</td>\n",
       "      <td>Industrial</td>\n",
       "      <td>[('Deer Park Station Commuter Rail (Ronkonkoma...</td>\n",
       "      <td>Heating - Gas</td>\n",
       "    </tr>\n",
       "    <tr>\n",
       "      <td>1</td>\n",
       "      <td>1600 N Ocean Ave</td>\n",
       "      <td>None</td>\n",
       "      <td>27,000 SF</td>\n",
       "      <td>Holtsville</td>\n",
       "      <td>Rental Rate,$15.00 /SF/YR,Rentable Building Ar...</td>\n",
       "      <td>7/19/2016</td>\n",
       "      <td>4289714</td>\n",
       "      <td>$1.25 SF/Mo</td>\n",
       "      <td>Industrial</td>\n",
       "      <td>1,800 SF</td>\n",
       "      <td>1 Space</td>\n",
       "      <td>NY</td>\n",
       "      <td>For Lease</td>\n",
       "      <td>Industrial</td>\n",
       "      <td>[('Medford Station Commuter Rail (Greenport Br...</td>\n",
       "      <td>Lighting,Heating</td>\n",
       "    </tr>\n",
       "    <tr>\n",
       "      <td>2</td>\n",
       "      <td>71 White St</td>\n",
       "      <td>None</td>\n",
       "      <td>25,000 SF</td>\n",
       "      <td>Brooklyn</td>\n",
       "      <td>Rental Rate,$53.00 /SF/YR,Property Subtype,War...</td>\n",
       "      <td>7/18/2017</td>\n",
       "      <td>8236803</td>\n",
       "      <td>$4.42 SF/Mo</td>\n",
       "      <td>Industrial</td>\n",
       "      <td>12,500 - 25,000 SF</td>\n",
       "      <td>1 Space</td>\n",
       "      <td>NY</td>\n",
       "      <td>For Lease</td>\n",
       "      <td>Retail</td>\n",
       "      <td>[('Morgan Avenue Transit Stop', '4 min walk', ...</td>\n",
       "      <td>NaN</td>\n",
       "    </tr>\n",
       "    <tr>\n",
       "      <td>3</td>\n",
       "      <td>1 Ross Tech Park</td>\n",
       "      <td>None</td>\n",
       "      <td>86,300 SF</td>\n",
       "      <td>Troy</td>\n",
       "      <td>Rental Rate,$6.75 /SF/YR,Rentable Building Are...</td>\n",
       "      <td>3/21/2019</td>\n",
       "      <td>4079725</td>\n",
       "      <td>$0.56 SF/Mo</td>\n",
       "      <td>Industrial</td>\n",
       "      <td>19,530 SF</td>\n",
       "      <td>1 Space</td>\n",
       "      <td>NY</td>\n",
       "      <td>For Lease</td>\n",
       "      <td>Industrial</td>\n",
       "      <td>NaN</td>\n",
       "      <td>Gas - Natural,Water - City Water,Sewer - City ...</td>\n",
       "    </tr>\n",
       "    <tr>\n",
       "      <td>4</td>\n",
       "      <td>1230-1244 Lyell Ave</td>\n",
       "      <td>None</td>\n",
       "      <td>30,000 SF</td>\n",
       "      <td>Rochester</td>\n",
       "      <td>Rental Rate,$8.00 - $10.00 /SF/YR,Rentable Bui...</td>\n",
       "      <td>10/14/2019</td>\n",
       "      <td>15282292</td>\n",
       "      <td>$0.67 - $0.83 SF/Mo</td>\n",
       "      <td>Industrial</td>\n",
       "      <td>2,636 - 11,144 SF</td>\n",
       "      <td>2 Spaces</td>\n",
       "      <td>NY</td>\n",
       "      <td>For Lease</td>\n",
       "      <td>Office, Office/Medical</td>\n",
       "      <td>[('Greater Rochester International Airport', '...</td>\n",
       "      <td>NaN</td>\n",
       "    </tr>\n",
       "    <tr>\n",
       "      <td>5</td>\n",
       "      <td>348 Old Niskayuna Rd</td>\n",
       "      <td>None</td>\n",
       "      <td>63,752 SF</td>\n",
       "      <td>Albany</td>\n",
       "      <td>Rental Rate,$7.75 /SF/YR,Rentable Building Are...</td>\n",
       "      <td>11/8/2018</td>\n",
       "      <td>14331836</td>\n",
       "      <td>$0.65 SF/Mo</td>\n",
       "      <td>Industrial</td>\n",
       "      <td>27,105 SF</td>\n",
       "      <td>1 Space</td>\n",
       "      <td>NY</td>\n",
       "      <td>For Lease</td>\n",
       "      <td>Industrial</td>\n",
       "      <td>NaN</td>\n",
       "      <td>Gas,Water,Heating - Gas</td>\n",
       "    </tr>\n",
       "    <tr>\n",
       "      <td>6</td>\n",
       "      <td>348 Troutman St</td>\n",
       "      <td>None</td>\n",
       "      <td>22,000 SF</td>\n",
       "      <td>Brooklyn</td>\n",
       "      <td>Rental Rate,$25.00 /SF/YR,Property Subtype,War...</td>\n",
       "      <td>10/17/2019</td>\n",
       "      <td>12830796</td>\n",
       "      <td>$2.08 SF/Mo</td>\n",
       "      <td>Industrial</td>\n",
       "      <td>500 - 19,499 SF</td>\n",
       "      <td>2 Spaces</td>\n",
       "      <td>NY</td>\n",
       "      <td>For Lease</td>\n",
       "      <td>Office, Industrial</td>\n",
       "      <td>[('Jefferson Street Transit Stop', '3 min walk...</td>\n",
       "      <td>Heating - Fired Oil</td>\n",
       "    </tr>\n",
       "    <tr>\n",
       "      <td>7</td>\n",
       "      <td>23 Ganson Ave</td>\n",
       "      <td>None</td>\n",
       "      <td>100,000 SF</td>\n",
       "      <td>Batavia</td>\n",
       "      <td>Rental Rate,$3.25 /SF/YR,Rentable Building Are...</td>\n",
       "      <td>4/30/2019</td>\n",
       "      <td>15905153</td>\n",
       "      <td>$0.27 SF/Mo</td>\n",
       "      <td>Industrial</td>\n",
       "      <td>22,000 SF</td>\n",
       "      <td>1 Space</td>\n",
       "      <td>NY</td>\n",
       "      <td>For Lease</td>\n",
       "      <td>Industrial</td>\n",
       "      <td>[('Greater Rochester International Airport', '...</td>\n",
       "      <td>NaN</td>\n",
       "    </tr>\n",
       "    <tr>\n",
       "      <td>8</td>\n",
       "      <td>164 19th St</td>\n",
       "      <td>None</td>\n",
       "      <td>10,300 SF</td>\n",
       "      <td>Brooklyn</td>\n",
       "      <td>Rental Rate,$27.78 /SF/YR,Rentable Building Ar...</td>\n",
       "      <td>2/4/2018</td>\n",
       "      <td>11485998</td>\n",
       "      <td>$2.32 SF/Mo</td>\n",
       "      <td>Industrial</td>\n",
       "      <td>10,300 SF</td>\n",
       "      <td>1 Space</td>\n",
       "      <td>NY</td>\n",
       "      <td>For Lease</td>\n",
       "      <td>Industrial</td>\n",
       "      <td>NaN</td>\n",
       "      <td>Lighting - Fluorescent,Gas - Natural,Water - C...</td>\n",
       "    </tr>\n",
       "    <tr>\n",
       "      <td>9</td>\n",
       "      <td>43 Bogart St</td>\n",
       "      <td>None</td>\n",
       "      <td>5,015 SF</td>\n",
       "      <td>Brooklyn</td>\n",
       "      <td>Rental Rate,$58.00 /SF/YR,Rentable Building Ar...</td>\n",
       "      <td>6/24/2019</td>\n",
       "      <td>16433468</td>\n",
       "      <td>$4.83 SF/Mo</td>\n",
       "      <td>Industrial</td>\n",
       "      <td>878 SF</td>\n",
       "      <td>1 Space</td>\n",
       "      <td>NY</td>\n",
       "      <td>For Lease</td>\n",
       "      <td>Retail</td>\n",
       "      <td>[('Morgan Avenue Transit Stop', '3 min walk', ...</td>\n",
       "      <td>NaN</td>\n",
       "    </tr>\n",
       "  </tbody>\n",
       "</table>\n",
       "</div>"
      ],
      "text/plain": [
       "                address amenities buildingSize        city  \\\n",
       "0     120 Wilshire Blvd      None   150,000 SF    Edgewood   \n",
       "1      1600 N Ocean Ave      None    27,000 SF  Holtsville   \n",
       "2           71 White St      None    25,000 SF    Brooklyn   \n",
       "3      1 Ross Tech Park      None    86,300 SF        Troy   \n",
       "4   1230-1244 Lyell Ave      None    30,000 SF   Rochester   \n",
       "5  348 Old Niskayuna Rd      None    63,752 SF      Albany   \n",
       "6       348 Troutman St      None    22,000 SF    Brooklyn   \n",
       "7         23 Ganson Ave      None   100,000 SF     Batavia   \n",
       "8           164 19th St      None    10,300 SF    Brooklyn   \n",
       "9          43 Bogart St      None     5,015 SF    Brooklyn   \n",
       "\n",
       "                                           extraInfo listingDate  listingID  \\\n",
       "0  Property Type,Industrial,Rentable Building Are...   3/24/2020   18965073   \n",
       "1  Rental Rate,$15.00 /SF/YR,Rentable Building Ar...   7/19/2016    4289714   \n",
       "2  Rental Rate,$53.00 /SF/YR,Property Subtype,War...   7/18/2017    8236803   \n",
       "3  Rental Rate,$6.75 /SF/YR,Rentable Building Are...   3/21/2019    4079725   \n",
       "4  Rental Rate,$8.00 - $10.00 /SF/YR,Rentable Bui...  10/14/2019   15282292   \n",
       "5  Rental Rate,$7.75 /SF/YR,Rentable Building Are...   11/8/2018   14331836   \n",
       "6  Rental Rate,$25.00 /SF/YR,Property Subtype,War...  10/17/2019   12830796   \n",
       "7  Rental Rate,$3.25 /SF/YR,Rentable Building Are...   4/30/2019   15905153   \n",
       "8  Rental Rate,$27.78 /SF/YR,Rentable Building Ar...    2/4/2018   11485998   \n",
       "9  Rental Rate,$58.00 /SF/YR,Rentable Building Ar...   6/24/2019   16433468   \n",
       "\n",
       "                 price    propType      spaceAvailable    spaces state  \\\n",
       "0    Rent Upon Request  Industrial           75,000 SF   1 Space    NY   \n",
       "1          $1.25 SF/Mo  Industrial            1,800 SF   1 Space    NY   \n",
       "2          $4.42 SF/Mo  Industrial  12,500 - 25,000 SF   1 Space    NY   \n",
       "3          $0.56 SF/Mo  Industrial           19,530 SF   1 Space    NY   \n",
       "4  $0.67 - $0.83 SF/Mo  Industrial   2,636 - 11,144 SF  2 Spaces    NY   \n",
       "5          $0.65 SF/Mo  Industrial           27,105 SF   1 Space    NY   \n",
       "6          $2.08 SF/Mo  Industrial     500 - 19,499 SF  2 Spaces    NY   \n",
       "7          $0.27 SF/Mo  Industrial           22,000 SF   1 Space    NY   \n",
       "8          $2.32 SF/Mo  Industrial           10,300 SF   1 Space    NY   \n",
       "9          $4.83 SF/Mo  Industrial              878 SF   1 Space    NY   \n",
       "\n",
       "      status                 subType  \\\n",
       "0  For Lease              Industrial   \n",
       "1  For Lease              Industrial   \n",
       "2  For Lease                  Retail   \n",
       "3  For Lease              Industrial   \n",
       "4  For Lease  Office, Office/Medical   \n",
       "5  For Lease              Industrial   \n",
       "6  For Lease      Office, Industrial   \n",
       "7  For Lease              Industrial   \n",
       "8  For Lease              Industrial   \n",
       "9  For Lease                  Retail   \n",
       "\n",
       "                                           transport  \\\n",
       "0  [('Deer Park Station Commuter Rail (Ronkonkoma...   \n",
       "1  [('Medford Station Commuter Rail (Greenport Br...   \n",
       "2  [('Morgan Avenue Transit Stop', '4 min walk', ...   \n",
       "3                                                NaN   \n",
       "4  [('Greater Rochester International Airport', '...   \n",
       "5                                                NaN   \n",
       "6  [('Jefferson Street Transit Stop', '3 min walk...   \n",
       "7  [('Greater Rochester International Airport', '...   \n",
       "8                                                NaN   \n",
       "9  [('Morgan Avenue Transit Stop', '3 min walk', ...   \n",
       "\n",
       "                                           utilities  \n",
       "0                                      Heating - Gas  \n",
       "1                                   Lighting,Heating  \n",
       "2                                                NaN  \n",
       "3  Gas - Natural,Water - City Water,Sewer - City ...  \n",
       "4                                                NaN  \n",
       "5                            Gas,Water,Heating - Gas  \n",
       "6                                Heating - Fired Oil  \n",
       "7                                                NaN  \n",
       "8  Lighting - Fluorescent,Gas - Natural,Water - C...  \n",
       "9                                                NaN  "
      ]
     },
     "execution_count": 112,
     "metadata": {},
     "output_type": "execute_result"
    }
   ],
   "source": [
    "import re\n",
    "## Cleaning\n",
    "#address: No change\n",
    "\n",
    "#amenities: Turn into list of amenities\n",
    "def amenities_clean(amenities):\n",
    "    amenities.replace(np.NaN, 'None')\n",
    "    \n",
    "df.amenities = amenities_clean(df.amenities)\n",
    "\n",
    "whNY.head(10)"
   ]
  },
  {
   "cell_type": "code",
   "execution_count": null,
   "metadata": {},
   "outputs": [],
   "source": [
    "    \n",
    "#buildingSize: "
   ]
  },
  {
   "cell_type": "code",
   "execution_count": null,
   "metadata": {},
   "outputs": [],
   "source": [
    "#city: "
   ]
  },
  {
   "cell_type": "code",
   "execution_count": null,
   "metadata": {},
   "outputs": [],
   "source": [
    "#extraInfo: "
   ]
  },
  {
   "cell_type": "code",
   "execution_count": null,
   "metadata": {},
   "outputs": [],
   "source": [
    "#listingDate: "
   ]
  },
  {
   "cell_type": "code",
   "execution_count": 122,
   "metadata": {},
   "outputs": [
    {
     "data": {
      "text/plain": [
       "0.7954166666666667"
      ]
     },
     "execution_count": 122,
     "metadata": {},
     "output_type": "execute_result"
    }
   ],
   "source": [
    "#listingID: \n",
    "#price: \n",
    "#propType: \n",
    "#spaceAvailable: \n",
    "#spaces: \n",
    "#state: \n",
    "#status: \n",
    "#subType: \n",
    "#transport: \n",
    "#utilities: \n",
    "\n",
    "# Remove dollar signs, price ranges, and units from the price column\n",
    "def price_adjust(price):\n",
    "    lst = re.split('[- /]+',price)\n",
    "    l = len(lst)\n",
    "\n",
    "    if lst[-1] in ['Mo','MO','Month']:\n",
    "        if l == 4:\n",
    "            return (float(lst[0][1:]) + float(lst[1][1:]))/2\n",
    "        elif l == 3:\n",
    "            return float(lst[0][1:])\n",
    "        else:\n",
    "            return np.NaN\n",
    "    if lst[-1] in ['Yr','YR','Year']:\n",
    "        if l == 4:\n",
    "            return (float(lst[0][1:]) + float(lst[1][1:]))/24\n",
    "        elif l == 3:\n",
    "            return float(lst[0][1:])/12\n",
    "        else:\n",
    "            return np.NaN\n"
   ]
  },
  {
   "cell_type": "code",
   "execution_count": 51,
   "metadata": {},
   "outputs": [
    {
     "data": {
      "text/plain": [
       "'$0.56 SF/Mo'"
      ]
     },
     "execution_count": 51,
     "metadata": {},
     "output_type": "execute_result"
    },
    {
     "data": {
      "text/plain": [
       "['$0.56', 'SF', 'Mo']"
      ]
     },
     "execution_count": 51,
     "metadata": {},
     "output_type": "execute_result"
    },
    {
     "data": {
      "text/plain": [
       "3"
      ]
     },
     "execution_count": 51,
     "metadata": {},
     "output_type": "execute_result"
    },
    {
     "ename": "ValueError",
     "evalue": "could not convert string to float: 'F'",
     "output_type": "error",
     "traceback": [
      "\u001b[0;31m---------------------------------------------------------------------------\u001b[0m",
      "\u001b[0;31mValueError\u001b[0m                                Traceback (most recent call last)",
      "\u001b[0;32m<ipython-input-51-f7e6d6061d77>\u001b[0m in \u001b[0;36m<module>\u001b[0;34m\u001b[0m\n\u001b[1;32m      4\u001b[0m \u001b[0mb\u001b[0m\u001b[0;34m\u001b[0m\u001b[0;34m\u001b[0m\u001b[0m\n\u001b[1;32m      5\u001b[0m \u001b[0mlen\u001b[0m\u001b[0;34m(\u001b[0m\u001b[0mb\u001b[0m\u001b[0;34m)\u001b[0m\u001b[0;34m\u001b[0m\u001b[0;34m\u001b[0m\u001b[0m\n\u001b[0;32m----> 6\u001b[0;31m \u001b[0;34m(\u001b[0m\u001b[0mfloat\u001b[0m\u001b[0;34m(\u001b[0m\u001b[0mb\u001b[0m\u001b[0;34m[\u001b[0m\u001b[0;36m0\u001b[0m\u001b[0;34m]\u001b[0m\u001b[0;34m[\u001b[0m\u001b[0;36m1\u001b[0m\u001b[0;34m:\u001b[0m\u001b[0;34m]\u001b[0m\u001b[0;34m)\u001b[0m \u001b[0;34m+\u001b[0m \u001b[0mfloat\u001b[0m\u001b[0;34m(\u001b[0m\u001b[0mb\u001b[0m\u001b[0;34m[\u001b[0m\u001b[0;36m1\u001b[0m\u001b[0;34m]\u001b[0m\u001b[0;34m[\u001b[0m\u001b[0;36m1\u001b[0m\u001b[0;34m:\u001b[0m\u001b[0;34m]\u001b[0m\u001b[0;34m)\u001b[0m\u001b[0;34m)\u001b[0m\u001b[0;34m/\u001b[0m\u001b[0;36m2\u001b[0m\u001b[0;34m\u001b[0m\u001b[0;34m\u001b[0m\u001b[0m\n\u001b[0m",
      "\u001b[0;31mValueError\u001b[0m: could not convert string to float: 'F'"
     ]
    }
   ],
   "source": [
    "a = whNY['price'][3]\n",
    "a\n",
    "b = re.split('[- /]+',a)\n",
    "b\n",
    "len(b)\n",
    "(float(b[0][1:]) + float(b[1][1:]))/2"
   ]
  },
  {
   "cell_type": "code",
   "execution_count": 26,
   "metadata": {},
   "outputs": [
    {
     "data": {
      "text/plain": [
       "str"
      ]
     },
     "execution_count": 26,
     "metadata": {},
     "output_type": "execute_result"
    }
   ],
   "source": [
    "type(whNY['price'][1])"
   ]
  },
  {
   "cell_type": "code",
   "execution_count": null,
   "metadata": {},
   "outputs": [],
   "source": []
  },
  {
   "cell_type": "code",
   "execution_count": null,
   "metadata": {},
   "outputs": [],
   "source": []
  },
  {
   "cell_type": "code",
   "execution_count": 9,
   "metadata": {},
   "outputs": [],
   "source": [
    "colFun = {'city' : ['count'],\n",
    "          'price' : ['min','max','mean','std'],\n",
    "          'spaceAvailable' : ['min','max','mean','std'],\n",
    "          'spaces' : ['min','max','mean','std'],\n",
    "          'subtype' : ['count']\n",
    "         }"
   ]
  },
  {
   "cell_type": "code",
   "execution_count": null,
   "metadata": {},
   "outputs": [],
   "source": []
  }
 ],
 "metadata": {
  "kernelspec": {
   "display_name": "Python 3",
   "language": "python",
   "name": "python3"
  },
  "language_info": {
   "codemirror_mode": {
    "name": "ipython",
    "version": 3
   },
   "file_extension": ".py",
   "mimetype": "text/x-python",
   "name": "python",
   "nbconvert_exporter": "python",
   "pygments_lexer": "ipython3",
   "version": "3.7.4"
  }
 },
 "nbformat": 4,
 "nbformat_minor": 2
}
